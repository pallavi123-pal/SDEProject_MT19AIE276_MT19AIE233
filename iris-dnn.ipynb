{
 "cells": [
  {
   "cell_type": "markdown",
   "metadata": {},
   "source": [
    "# Classify Iris Dataset Using DNNClassifer\n",
    "\n",
    "This tutorial demonstrates how to\n",
    "- Train a DNNClassifer on the [Iris flower dataset](https://en.wikipedia.org/wiki/Iris_flower_data_set).\n",
    "- Use the trained DNNClassifer to predict the three species of Iris(Iris setosa, Iris virginica and Iris versicolor).\n",
    "\n",
    "## The Dataset\n",
    "\n",
    "The Iris data set contains four features and one label. The four features identify the botanical characteristics of individual Iris flowers. Each feature is stored as a single float number. The label indicates the species of individual Iris flowers. The label is stored as a integer and has possible value of 0, 1, 2.\n",
    "\n",
    "We have prepared the Iris dataset in table `iris.train` and `iris.test`. We will use them as training data and test data respectively.\n",
    "\n",
    "We can have a quick peek of the data by running the following standard SQL statements.\n",
    "\n"
   ]
  },
  {
   "cell_type": "code",
   "execution_count": 1,
   "metadata": {},
   "outputs": [
    {
     "name": "stdout",
     "output_type": "stream",
     "text": [
      "SQLFlow Step: [1/1] Execute Code: bash -c step -e \"describe iris.train;\" \n",
      "SQLFlow Step: [1/1] Log: http://localhost:9001/workflows/default/sqlflow-qcnpz?tab=workflow&nodeId=sqlflow-qcnpz-3647367108&sidePanel=logs:sqlflow-qcnpz-3647367108:main\n",
      "SQLFlow Step: [1/1] Status: Pending\n",
      "SQLFlow Step: [1/1] Status: Running\n",
      "SQLFlow Step: [1/1] Status: Succeeded\n"
     ]
    },
    {
     "data": {
      "text/html": [
       "<div>\n",
       "<style scoped>\n",
       "    .dataframe tbody tr th:only-of-type {\n",
       "        vertical-align: middle;\n",
       "    }\n",
       "\n",
       "    .dataframe tbody tr th {\n",
       "        vertical-align: top;\n",
       "    }\n",
       "\n",
       "    .dataframe thead th {\n",
       "        text-align: right;\n",
       "    }\n",
       "</style>\n",
       "<table border=\"1\" class=\"dataframe\">\n",
       "  <thead>\n",
       "    <tr style=\"text-align: right;\">\n",
       "      <th></th>\n",
       "      <th>Field</th>\n",
       "      <th>Type</th>\n",
       "      <th>Null</th>\n",
       "      <th>Key</th>\n",
       "      <th>Default</th>\n",
       "      <th>Extra</th>\n",
       "    </tr>\n",
       "  </thead>\n",
       "  <tbody>\n",
       "    <tr>\n",
       "      <th>0</th>\n",
       "      <td>sepal_length</td>\n",
       "      <td>float</td>\n",
       "      <td>YES</td>\n",
       "      <td></td>\n",
       "      <td>None</td>\n",
       "      <td></td>\n",
       "    </tr>\n",
       "    <tr>\n",
       "      <th>1</th>\n",
       "      <td>sepal_width</td>\n",
       "      <td>float</td>\n",
       "      <td>YES</td>\n",
       "      <td></td>\n",
       "      <td>None</td>\n",
       "      <td></td>\n",
       "    </tr>\n",
       "    <tr>\n",
       "      <th>2</th>\n",
       "      <td>petal_length</td>\n",
       "      <td>float</td>\n",
       "      <td>YES</td>\n",
       "      <td></td>\n",
       "      <td>None</td>\n",
       "      <td></td>\n",
       "    </tr>\n",
       "    <tr>\n",
       "      <th>3</th>\n",
       "      <td>petal_width</td>\n",
       "      <td>float</td>\n",
       "      <td>YES</td>\n",
       "      <td></td>\n",
       "      <td>None</td>\n",
       "      <td></td>\n",
       "    </tr>\n",
       "    <tr>\n",
       "      <th>4</th>\n",
       "      <td>class</td>\n",
       "      <td>int(11)</td>\n",
       "      <td>YES</td>\n",
       "      <td></td>\n",
       "      <td>None</td>\n",
       "      <td></td>\n",
       "    </tr>\n",
       "  </tbody>\n",
       "</table>\n",
       "</div>"
      ],
      "text/plain": [
       "\n",
       "          Field     Type Null Key Default Extra\n",
       "0  sepal_length    float  YES        None      \n",
       "1   sepal_width    float  YES        None      \n",
       "2  petal_length    float  YES        None      \n",
       "3   petal_width    float  YES        None      \n",
       "4         class  int(11)  YES        None      "
      ]
     },
     "execution_count": 1,
     "metadata": {},
     "output_type": "execute_result"
    }
   ],
   "source": [
    "%%sqlflow\n",
    "describe iris.train;\n"
   ]
  },
  {
   "cell_type": "markdown",
   "metadata": {},
   "source": [
    "\n"
   ]
  },
  {
   "cell_type": "code",
   "execution_count": 1,
   "metadata": {},
   "outputs": [
    {
     "name": "stdout",
     "output_type": "stream",
     "text": [
      "\n"
     ]
    }
   ],
   "source": [
    "%%sqlflow\n",
    "select * from iris.train limit 5;\n"
   ]
  },
  {
   "cell_type": "markdown",
   "metadata": {},
   "source": [
    "\n",
    "## Train\n",
    "\n",
    "Let's train a ternary DNNClassifier, which has two hidden layers with ten hidden units each. This can be done by specifying the training clause for SQLFlow's extended syntax.\n",
    "\n",
    "```\n",
    "TO TRAIN DNNClassifier\n",
    "WITH\n",
    "  model.n_classes = 3,\n",
    "  model.hidden_units = [10, 10]\n",
    "```\n",
    "\n",
    "To specify the training data, we use standard SQL statements like `SELECT * FROM iris.train`.\n",
    "\n",
    "We explicit specify which column is used for features and which column is used for the label by writing\n",
    "\n",
    "```\n",
    "COLUMN sepal_length, sepal_width, petal_length, petal_width\n",
    "LABEL class\n",
    "```\n",
    "\n",
    "At the end of the training process, we save the trained DNN model into table `sqlflow_models.my_dnn_model` by writing `INTO sqlflow_models.my_dnn_model`.\n",
    "\n",
    "Putting it all together, we have our first SQLFlow training statement.\n",
    "\n"
   ]
  },
  {
   "cell_type": "code",
   "execution_count": 1,
   "metadata": {},
   "outputs": [
    {
     "name": "stdout",
     "output_type": "stream",
     "text": [
      "\n"
     ]
    }
   ],
   "source": [
    "%%sqlflow\n",
    "SELECT * FROM iris.train TO TRAIN DNNClassifier WITH\n",
    "  model.n_classes = 3,\n",
    "  model.hidden_units = [10, 10],\n",
    "  train.epoch = 10\n",
    "COLUMN sepal_length, sepal_width, petal_length, petal_width\n",
    "LABEL class\n",
    "INTO sqlflow_models.my_dnn_model;\n"
   ]
  },
  {
   "cell_type": "markdown",
   "metadata": {},
   "source": [
    "\n",
    "The above training statement usually takes a few minutes to run, and the outputs look like the following:\n",
    "\n",
    "```python\n",
    "{'accuracy': 0.4, 'average_loss': 1.0920922, 'loss': 1.0920922, 'global_step': 1100}\n",
    "```\n",
    "\n",
    "As we've seen, the average loss of the above training statement doesn't look very good; an ideal value for the *Iris flower dataset* should be less 0.4. Let us see what we can do to improve model quality.\n",
    "\n",
    "## Tune\n",
    "\n",
    "In order to improve the model performance, we can tune the [hyperparameters](https://en.wikipedia.org/wiki/Hyperparameter_(machine_learning)) manually.\n",
    "> In machine learning, a hyperparameter is a parameter whose value is set before the learning process begins. By contrast, the values of other parameters are derived via training.\n",
    "\n",
    "According to the [Universal approximation theorem](https://en.wikipedia.org/wiki/Universal_approximation_theorem), the architecture of a multilayer [feed-forward network](https://en.wikipedia.org/wiki/Feedforward_neural_network) (such as our `DNNClassifier`) gives the neural network the potential of being a universal approximator.\n",
    "\n",
    "Our first *performance improvement trial* is to tune the architecture of our model by increasing the `hidden_units` of each layer to 100 because the width of feed-forward networks matters in the theorem.\n",
    "\n"
   ]
  },
  {
   "cell_type": "code",
   "execution_count": 1,
   "metadata": {},
   "outputs": [
    {
     "name": "stdout",
     "output_type": "stream",
     "text": [
      "\n"
     ]
    }
   ],
   "source": [
    "%%sqlflow\n",
    "SELECT * FROM iris.train TO TRAIN DNNClassifier WITH\n",
    "  model.n_classes = 3,\n",
    "  model.hidden_units = [100, 100],\n",
    "  train.epoch = 10\n",
    "COLUMN sepal_length, sepal_width, petal_length, petal_width\n",
    "LABEL class\n",
    "INTO sqlflow_models.my_dnn_model;\n"
   ]
  },
  {
   "cell_type": "markdown",
   "metadata": {},
   "source": [
    "The above statement will give a better result like:\n",
    "\n",
    "```python\n",
    "{'accuracy': 0.72, 'average_loss': 0.5695601, 'loss': 0.5695601, 'global_step': 1100}\n",
    "```\n",
    "\n",
    "However, DNNs are highly expressive models, for our tiny dataset, we still have a lot of room for improvement.\n",
    "\n",
    "Our second *performance improvement trial* is to enlarge the [learning rate](https://en.wikipedia.org/wiki/Learning_rate) of the underlying optimizer of `DNNClassifier` to speed up the learning process. Optimizers and the learning rate are the the most important hyperparameters in DNNs. The default optimizer of `DNNClassifier` is [AdaGrad](https://en.wikipedia.org/wiki/Stochastic_gradient_descent#AdaGrad) with a default learning rate of 0.001.\n",
    "\n",
    "Theoretically speaking, the learning rate of AdaGrad should be set as large as possible, but no larger. Practically speaking, a slightly larger learning rate always makes AdaGrad perform slightly better as long as the [dying neuron problem](https://en.wikipedia.org/wiki/Rectifier_(neural_networks)#Potential_problems) doesn't arise. Let us increase the learning rate by 10 times:\n",
    "\n"
   ]
  },
  {
   "cell_type": "code",
   "execution_count": 1,
   "metadata": {},
   "outputs": [
    {
     "name": "stdout",
     "output_type": "stream",
     "text": [
      "\n"
     ]
    }
   ],
   "source": [
    "%%sqlflow\n",
    "SELECT * FROM iris.train TO TRAIN DNNClassifier WITH\n",
    "  model.n_classes = 3,\n",
    "  model.hidden_units = [100, 100],\n",
    "  optimizer.learning_rate=0.1,\n",
    "  train.epoch = 10\n",
    "COLUMN sepal_length, sepal_width, petal_length, petal_width\n",
    "LABEL class\n",
    "INTO sqlflow_models.my_dnn_model;\n"
   ]
  },
  {
   "cell_type": "markdown",
   "metadata": {},
   "source": [
    "The above statement will give a decent result like:\n",
    "\n",
    "```python\n",
    "{'accuracy': 0.98, 'average_loss': 0.10286382, 'loss': 0.10286382, 'global_step': 1100}\n",
    "\n",
    "```\n",
    "\n",
    "That's all you have to know about tuning models in this tutorial. In fact, tuning is very crucial to make machine learning work and usually takes a large fraction of the working hours of data scientists and machine learning engineers.\n",
    "\n",
    "\n",
    "## Automated tuning\n",
    "\n",
    "If you feel that tuning models manually is time-consuming and tedious (it is indeed), [automated machine learning](https://en.wikipedia.org/wiki/Automated_machine_learning) (AutoML) can be a fine alternative.\n",
    "\n",
    "SQLFlow supports automated [neural architecture search](https://en.wikipedia.org/wiki/Neural_architecture_search) (NAS) via specific estimators. To improve model performance, we can use `sqlflow_models.AutoClassifier` instead of `DNNClassifier`. We don't need to specify the `hidden_units` in the `WITH` clause in the above example because `sqlflow_models.AutoClassifier` will automatically search for the architecture.\n"
   ]
  },
  {
   "cell_type": "code",
   "execution_count": 1,
   "metadata": {},
   "outputs": [
    {
     "name": "stdout",
     "output_type": "stream",
     "text": [
      "\n"
     ]
    }
   ],
   "source": [
    "%%sqlflow\n",
    "SELECT * FROM iris.train TO TRAIN sqlflow_models.AutoClassifier WITH\n",
    "  model.n_classes = 3,\n",
    "  train.epoch = 10\n",
    "COLUMN sepal_length, sepal_width, petal_length, petal_width\n",
    "LABEL class\n",
    "INTO sqlflow_models.my_dnn_model;\n"
   ]
  },
  {
   "cell_type": "markdown",
   "metadata": {},
   "source": [
    "The above training statement will take longer to run because the `AutoClassifier` has to search for the most appropriate neural architectures. The statement will give a result like:\n",
    "\n",
    "```python\n",
    "{'accuracy': 0.98, 'average_loss': 0.08678584, 'loss': 0.08678584, 'global_step': 1000}\n",
    "\n",
    "```\n",
    "\n",
    "Although this seems to be very close to the manually tuned version in the last section, because the training process of `DNNClassifier` and `AutoClassifier` is somewhat stochastic, it may give an average loss slightly large or smaller than the manually tuned version.\n",
    "\n",
    "The SQLFlow team plans to support more NAS models as well as other AutoML technics like [automatic hyperparameter tuning](https://en.wikipedia.org/wiki/Automated_machine_learning#Hyperparameter_optimization_and_model_selection) in the near future.\n",
    "\n",
    "\n",
    "## Predict\n",
    "\n",
    "SQLFlow also supports prediction out-of-the-box.\n",
    "\n",
    "To specify the prediction data, we use standard SQL statements like `SELECT * FROM iris.test`.\n",
    "\n",
    "Say we want the model, previously stored at `sqlflow_models.my_dnn_model`, to read the prediction data and write the predicted result into table `iris.predict` column `class`. We can write the following SQLFlow prediction statement.\n",
    "\n"
   ]
  },
  {
   "cell_type": "code",
   "execution_count": 1,
   "metadata": {},
   "outputs": [
    {
     "name": "stdout",
     "output_type": "stream",
     "text": [
      "\n"
     ]
    }
   ],
   "source": [
    "%%sqlflow\n",
    "SELECT * FROM iris.test TO PREDICT iris.predict.class USING sqlflow_models.my_dnn_model;\n"
   ]
  },
  {
   "cell_type": "markdown",
   "metadata": {},
   "source": [
    "\n",
    "After the prediction, we can checkout the prediction result by\n",
    "\n"
   ]
  },
  {
   "cell_type": "code",
   "execution_count": 1,
   "metadata": {},
   "outputs": [
    {
     "name": "stdout",
     "output_type": "stream",
     "text": [
      "\n"
     ]
    }
   ],
   "source": [
    "%%sqlflow\n",
    "SELECT * FROM iris.predict LIMIT 5;\n"
   ]
  },
  {
   "cell_type": "markdown",
   "metadata": {},
   "source": []
  }
 ],
 "metadata": {
  "kernelspec": {
   "display_name": "Python 3",
   "language": "python",
   "name": "python3"
  },
  "language_info": {
   "codemirror_mode": {
    "name": "ipython",
    "version": 3
   },
   "file_extension": ".py",
   "mimetype": "text/x-python",
   "name": "python",
   "nbconvert_exporter": "python",
   "pygments_lexer": "ipython3",
   "version": "3.8.3"
  }
 },
 "nbformat": 4,
 "nbformat_minor": 1
}
